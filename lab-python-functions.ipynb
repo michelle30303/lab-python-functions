{
 "cells": [
  {
   "cell_type": "markdown",
   "id": "25d7736c-ba17-4aff-b6bb-66eba20fbf4e",
   "metadata": {},
   "source": [
    "# Lab | Functions"
   ]
  },
  {
   "cell_type": "markdown",
   "id": "0c581062-8967-4d93-b06e-62833222f930",
   "metadata": {
    "tags": []
   },
   "source": [
    "## Exercise: Managing Customer Orders with Functions\n",
    "\n",
    "In the previous exercise, you improved the code for managing customer orders by using loops and flow control. Now, let's take it a step further and refactor the code by introducing functions.\n",
    "\n",
    "Follow the steps below to complete the exercise:\n",
    "\n",
    "1. Define a function named `initialize_inventory` that takes `products` as a parameter. Inside the function, implement the code for initializing the inventory dictionary using a loop and user input.\n",
    "\n",
    "2. Define a function named `get_customer_orders` that takes no parameters. Inside the function, implement the code for prompting the user to enter the product names using a loop. The function should return the `customer_orders` set.\n",
    "\n",
    "3. Define a function named `update_inventory` that takes `customer_orders` and `inventory` as parameters. Inside the function, implement the code for updating the inventory dictionary based on the customer orders.\n",
    "\n",
    "4. Define a function named `calculate_order_statistics` that takes `customer_orders` and `products` as parameters. Inside the function, implement the code for calculating the order statistics (total products ordered, and percentage of unique products ordered). The function should return these values.\n",
    "\n",
    "5. Define a function named `print_order_statistics` that takes `order_statistics` as a parameter. Inside the function, implement the code for printing the order statistics.\n",
    "\n",
    "6. Define a function named `print_updated_inventory` that takes `inventory` as a parameter. Inside the function, implement the code for printing the updated inventory.\n",
    "\n",
    "7. Call the functions in the appropriate sequence to execute the program and manage customer orders.\n",
    "\n",
    "Hints for functions:\n",
    "\n",
    "- Consider the input parameters required for each function and their return values.\n",
    "- Utilize function parameters and return values to transfer data between functions.\n",
    "- Test your functions individually to ensure they work correctly.\n",
    "\n",
    "\n"
   ]
  },
  {
   "cell_type": "code",
   "execution_count": 25,
   "id": "546f9657",
   "metadata": {},
   "outputs": [],
   "source": [
    "# 1\n",
    "\n",
    "def initialize_inventory(products):\n",
    "    inventory = {}\n",
    "    for product in products:\n",
    "        quantity = int(input(f\"Enter the quantity for {product}: \"))\n",
    "        inventory[product] = quantity\n",
    "    return inventory"
   ]
  },
  {
   "cell_type": "code",
   "execution_count": 26,
   "id": "42ddf691",
   "metadata": {},
   "outputs": [],
   "source": [
    "# 2\n",
    "def update_inventory(customer_orders, inventory):\n",
    "    for order in customer_orders:\n",
    "        if inventory[order] > 0:\n",
    "            inventory[order] -= 1\n",
    "        else:\n",
    "            print(f\"{order} is out of stock and cannot be ordered.\")\n",
    "\n"
   ]
  },
  {
   "cell_type": "code",
   "execution_count": 27,
   "id": "2d0b6635",
   "metadata": {},
   "outputs": [],
   "source": [
    "# 3\n",
    "def calculate_order_statistics(customer_orders, products):\n",
    "    total_products_ordered = len(customer_orders)\n",
    "    total_products_available = len(products)\n",
    "    percentage_ordered = (total_products_ordered / total_products_available) * 100\n",
    "    return total_products_ordered, percentage_ordered\n",
    "\n"
   ]
  },
  {
   "cell_type": "code",
   "execution_count": 28,
   "id": "254331b0",
   "metadata": {},
   "outputs": [],
   "source": [
    "#4\n",
    "def print_order_statistics(order_statistics):\n",
    "    total_products_ordered, percentage_ordered = order_statistics\n",
    "    print(f\"Total Products Ordered: {total_products_ordered}\")\n",
    "    print(f\"Percentage of Products Ordered: {percentage_ordered:.2f}%\")\n",
    "\n"
   ]
  },
  {
   "cell_type": "code",
   "execution_count": 29,
   "id": "7762109a",
   "metadata": {},
   "outputs": [],
   "source": [
    "# 5\n",
    "def print_updated_inventory(inventory):\n",
    "    print(\"Updated inventory:\")\n",
    "    for product, quantity in inventory.items():\n",
    "        print(f\"{product}: {quantity}\")"
   ]
  },
  {
   "cell_type": "code",
   "execution_count": 30,
   "id": "ad32ae55",
   "metadata": {},
   "outputs": [],
   "source": [
    "# Main Program\n",
    "def main():\n",
    "    products = [\"t-shirt\", \"mug\", \"hat\", \"book\", \"keychain\"]\n",
    "    \n",
    "    #  Initialize inventory\n",
    "    inventory = initialize_inventory(products)\n",
    "    \n",
    "    # Get customer orders\n",
    "    customer_orders = get_customer_orders(products)\n",
    "    \n",
    "    # Print the products in the customer orders set\n",
    "    print(\"Products in the customer orders:\", customer_orders)\n",
    "    \n",
    "    # Update inventory based on customer orders\n",
    "    update_inventory(customer_orders, inventory)\n",
    "    \n",
    "    # Calculate order statistics\n",
    "    order_statistics = calculate_order_statistics(customer_orders, products)\n",
    "    \n",
    "    # Print order statistics\n",
    "    print_order_statistics(order_statistics)\n",
    "    \n",
    "    #  Print updated inventory\n",
    "    print_updated_inventory(inventory)\n",
    "\n",
    "# Execute the main program\n",
    "if __name__ == \"__main__\":\n",
    "    main(), "
   ]
  },
  {
   "cell_type": "code",
   "execution_count": null,
   "id": "2fd7faad",
   "metadata": {},
   "outputs": [],
   "source": []
  }
 ],
 "metadata": {
  "kernelspec": {
   "display_name": "Python 3 (ipykernel)",
   "language": "python",
   "name": "python3"
  },
  "language_info": {
   "codemirror_mode": {
    "name": "ipython",
    "version": 3
   },
   "file_extension": ".py",
   "mimetype": "text/x-python",
   "name": "python",
   "nbconvert_exporter": "python",
   "pygments_lexer": "ipython3",
   "version": "3.11.7"
  }
 },
 "nbformat": 4,
 "nbformat_minor": 5
}
